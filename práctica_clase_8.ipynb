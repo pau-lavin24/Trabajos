{
  "nbformat": 4,
  "nbformat_minor": 0,
  "metadata": {
    "colab": {
      "name": "práctica clase 8",
      "provenance": [],
      "authorship_tag": "ABX9TyM2Qb0JABEg93xEzM5LBN8p",
      "include_colab_link": true
    },
    "kernelspec": {
      "name": "python3",
      "display_name": "Python 3"
    }
  },
  "cells": [
    {
      "cell_type": "markdown",
      "metadata": {
        "id": "view-in-github",
        "colab_type": "text"
      },
      "source": [
        "<a href=\"https://colab.research.google.com/github/pau-lavin24/Trabajos/blob/main/pr%C3%A1ctica_clase_8.ipynb\" target=\"_parent\"><img src=\"https://colab.research.google.com/assets/colab-badge.svg\" alt=\"Open In Colab\"/></a>"
      ]
    },
    {
      "cell_type": "code",
      "metadata": {
        "id": "tSN6YE7Bd10u"
      },
      "source": [
        "Doc = open(\"Trabajo.txt\",'w')\r\n",
        "coo = [\"(2,1)\\n\",\"(5,3)\\n\",\"(7,4)\\n\"]\r\n",
        "Doc.writelines(coo)\r\n",
        "Doc.close()"
      ],
      "execution_count": 3,
      "outputs": []
    },
    {
      "cell_type": "code",
      "metadata": {
        "colab": {
          "base_uri": "https://localhost:8080/"
        },
        "id": "n481PBTdgMfs",
        "outputId": "317a091e-8252-48c0-aecf-8731b8dd6d63"
      },
      "source": [
        "print(Doc)\r\n",
        "open(\"Trabajo.txt\",'r')"
      ],
      "execution_count": 5,
      "outputs": [
        {
          "output_type": "stream",
          "text": [
            "<_io.TextIOWrapper name='Trabajo.txt' mode='w' encoding='UTF-8'>\n"
          ],
          "name": "stdout"
        },
        {
          "output_type": "execute_result",
          "data": {
            "text/plain": [
              "<_io.TextIOWrapper name='Trabajo.txt' mode='r' encoding='UTF-8'>"
            ]
          },
          "metadata": {
            "tags": []
          },
          "execution_count": 5
        }
      ]
    },
    {
      "cell_type": "code",
      "metadata": {
        "colab": {
          "base_uri": "https://localhost:8080/"
        },
        "id": "mD6BY2H4flTj",
        "outputId": "db1b55f8-d1af-433c-ddeb-9c5150773690"
      },
      "source": [
        "with open(\"Trabajo.txt\", 'r') as stw:\r\n",
        "  linea = [lineas.strip() for lineas in stw]\r\n",
        "\r\n",
        "  for lineas in linea:\r\n",
        "    print(linea)"
      ],
      "execution_count": 6,
      "outputs": [
        {
          "output_type": "stream",
          "text": [
            "['(2,1)', '(5,3)', '(7,4)']\n",
            "['(2,1)', '(5,3)', '(7,4)']\n",
            "['(2,1)', '(5,3)', '(7,4)']\n"
          ],
          "name": "stdout"
        }
      ]
    },
    {
      "cell_type": "code",
      "metadata": {
        "id": "9XAgHArKgwFk"
      },
      "source": [
        ""
      ],
      "execution_count": null,
      "outputs": []
    }
  ]
}